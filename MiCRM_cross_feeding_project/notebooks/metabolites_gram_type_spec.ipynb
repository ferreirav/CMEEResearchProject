{
 "cells": [
  {
   "cell_type": "markdown",
   "id": "919538f4",
   "metadata": {},
   "source": [
    "### Get Single Species Essential Metabolites"
   ]
  },
  {
   "cell_type": "markdown",
   "id": "1963d7f8",
   "metadata": {},
   "source": [
    "Each individual species has its metabolic preferences. Moreover, each species have their specific features, such as macromolecular content, permeability, uptake rates, etc.\n",
    "\n",
    "Below, I will develop metabolic models for the different gram type species that exist in the environment."
   ]
  },
  {
   "cell_type": "code",
   "execution_count": 1,
   "id": "d30b8bda",
   "metadata": {},
   "outputs": [],
   "source": [
    "# Import libraries\n",
    "import sys"
   ]
  },
  {
   "cell_type": "code",
   "execution_count": 3,
   "id": "2450efeb",
   "metadata": {},
   "outputs": [],
   "source": [
    "sys.path.append(\"../code/\")"
   ]
  },
  {
   "cell_type": "code",
   "execution_count": 6,
   "id": "ccef6019",
   "metadata": {},
   "outputs": [],
   "source": [
    "from emp_data_wrang import get_data"
   ]
  },
  {
   "cell_type": "code",
   "execution_count": 7,
   "id": "18318d1b",
   "metadata": {},
   "outputs": [
    {
     "data": {
      "text/plain": [
       "(6666    2229.W2.T33.EH5.Thomas.CMB.Seaweed.lane5.NoInd...\n",
       " 6885    2382.RU006.C181.RH.4.794.leav.9.12.lane8.NoInd...\n",
       " Name: sample, dtype: object,\n",
       "                                                     sample  \\\n",
       " 1373773  2382.RU006.C181.RH.4.794.leav.9.12.lane8.NoInd...   \n",
       " 1373774  2382.RU006.C181.RH.4.794.leav.9.12.lane8.NoInd...   \n",
       " 1408550  2229.W2.T33.EH5.Thomas.CMB.Seaweed.lane5.NoInd...   \n",
       " 1408551  2229.W2.T33.EH5.Thomas.CMB.Seaweed.lane5.NoInd...   \n",
       " \n",
       "                                 org_id     value assembly_accession  \\\n",
       " 1373773        Sphingomonas_melonis_TY  0.000337    GCF_001761345.1   \n",
       " 1373774      Pseudomonas_putida_PA14H7  0.084626    GCF_000800615.1   \n",
       " 1408550  Hellea_balneolensis_DSM_19091  0.004599    GCF_000428525.1   \n",
       " 1408551    Mariniblastus_fucicola_FC18  0.000582    GCF_001642875.1   \n",
       " \n",
       "                                                Description  \\\n",
       " 1373773                                             Leaves   \n",
       " 1373774                                             Leaves   \n",
       " 1408550  DNA from surface swab of Ecklonia radiata macr...   \n",
       " 1408551  DNA from surface swab of Ecklonia radiata macr...   \n",
       " \n",
       "                                                      title  \\\n",
       " 1373773  The soil microbiome influences grapevine-assoc...   \n",
       " 1373774  The soil microbiome influences grapevine-assoc...   \n",
       " 1408550  Continental-scale variation in seaweed host-as...   \n",
       " 1408551  Continental-scale variation in seaweed host-as...   \n",
       " \n",
       "         principal_investigator ebi_accession target_gene  sample_taxid  ...  \\\n",
       " 1373773           Jack Gilbert     ERP006348    16S rRNA        410658  ...   \n",
       " 1373774           Jack Gilbert     ERP006348    16S rRNA        410658  ...   \n",
       " 1408550         Torsten Thomas     ERP021895    16S rRNA       1300146  ...   \n",
       " 1408551         Torsten Thomas     ERP021895    16S rRNA       1300146  ...   \n",
       " \n",
       "         envo_biome_0       envo_biome_1                     envo_biome_2  \\\n",
       " 1373773        biome  terrestrial biome  anthropogenic terrestrial biome   \n",
       " 1373774        biome  terrestrial biome  anthropogenic terrestrial biome   \n",
       " 1408550        biome      aquatic biome                     marine biome   \n",
       " 1408551        biome      aquatic biome                     marine biome   \n",
       " \n",
       "            envo_biome_3 envo_biome_4 envo_biome_5      empo_0  \\\n",
       " 1373773  cropland biome          NaN          NaN  EMP sample   \n",
       " 1373774  cropland biome          NaN          NaN  EMP sample   \n",
       " 1408550             NaN          NaN          NaN  EMP sample   \n",
       " 1408551             NaN          NaN          NaN  EMP sample   \n",
       " \n",
       "                   empo_1 empo_2         empo_3  \n",
       " 1373773  Host-associated  Plant   Plant corpus  \n",
       " 1373774  Host-associated  Plant   Plant corpus  \n",
       " 1408550  Host-associated  Plant  Plant surface  \n",
       " 1408551  Host-associated  Plant  Plant surface  \n",
       " \n",
       " [4 rows x 35 columns])"
      ]
     },
     "execution_count": 7,
     "metadata": {},
     "output_type": "execute_result"
    }
   ],
   "source": [
    "get_data(2)"
   ]
  }
 ],
 "metadata": {
  "kernelspec": {
   "display_name": "Python 3 (ipykernel)",
   "language": "python",
   "name": "python3"
  },
  "language_info": {
   "codemirror_mode": {
    "name": "ipython",
    "version": 3
   },
   "file_extension": ".py",
   "mimetype": "text/x-python",
   "name": "python",
   "nbconvert_exporter": "python",
   "pygments_lexer": "ipython3",
   "version": "3.10.6"
  }
 },
 "nbformat": 4,
 "nbformat_minor": 5
}
