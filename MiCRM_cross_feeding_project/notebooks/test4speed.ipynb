{
 "cells": [
  {
   "cell_type": "markdown",
   "id": "27c3c227",
   "metadata": {},
   "source": [
    "## Testing for speed"
   ]
  },
  {
   "cell_type": "markdown",
   "id": "4de65914",
   "metadata": {},
   "source": [
    "In order to understand the computational requirements for the analisys of the communities I have analysed the performance of the scripts by scaling it.\n",
    "\n",
    "I have started with communities sizes of 2, 4, 8, 16 and 32 species."
   ]
  },
  {
   "cell_type": "code",
   "execution_count": 1,
   "id": "a5116948",
   "metadata": {},
   "outputs": [],
   "source": [
    "# Import modules\n",
    "import os\n",
    "import pstats"
   ]
  },
  {
   "cell_type": "markdown",
   "id": "5c7ba5a3",
   "metadata": {},
   "source": [
    "The profiling files can be found inside [`code/profiling`]()\n",
    "\n",
    "Here, the main script to be called is `profiling_interactions.sh` which will parse the different community sizes to the main `processing_interactions()`"
   ]
  },
  {
   "cell_type": "code",
   "execution_count": 2,
   "id": "9a9c8ab2",
   "metadata": {},
   "outputs": [],
   "source": [
    "# Define Profiling path\n",
    "profile_path = os.chdir(\"../code/profiling\")"
   ]
  },
  {
   "cell_type": "markdown",
   "id": "a49d0c4d",
   "metadata": {},
   "source": [
    "## Comparing community sizes of..."
   ]
  },
  {
   "cell_type": "markdown",
   "id": "1d66c838",
   "metadata": {},
   "source": [
    "### 2 species"
   ]
  },
  {
   "cell_type": "code",
   "execution_count": 3,
   "id": "9f157227",
   "metadata": {
    "scrolled": false
   },
   "outputs": [
    {
     "name": "stdout",
     "output_type": "stream",
     "text": [
      "Tue Mar 21 11:32:13 2023    ./prof_results/profiling_comms_2\n",
      "\n",
      "         378238 function calls (372021 primitive calls) in 306.185 seconds\n",
      "\n",
      "   Ordered by: cumulative time\n",
      "   List reduced from 3719 to 10 due to restriction <10>\n",
      "\n",
      "   ncalls  tottime  percall  cumtime  percall filename:lineno(function)\n",
      "    452/1    0.009    0.000  306.185  306.185 {built-in method builtins.exec}\n",
      "        1    1.722    1.722  306.185  306.185 get_interactions_profiling.py:1(<module>)\n",
      "        1    0.153    0.153  300.797  300.797 get_interactions_profiling.py:21(processing_interactions)\n",
      "        2    0.000    0.000  278.438  139.219 /Users/vitorferreira/miniconda3/envs/project/lib/python3.10/subprocess.py:1204(wait)\n",
      "        2    0.001    0.000  278.437  139.219 /Users/vitorferreira/miniconda3/envs/project/lib/python3.10/subprocess.py:1911(_wait)\n",
      "        2    0.000    0.000  278.436  139.218 /Users/vitorferreira/miniconda3/envs/project/lib/python3.10/subprocess.py:1898(_try_wait)\n",
      "        2  278.436  139.218  278.436  139.218 {built-in method posix.waitpid}\n",
      "    19/11    0.000    0.000   11.802    1.073 /Users/vitorferreira/miniconda3/envs/project/lib/python3.10/site-packages/pandas/util/_decorators.py:323(wrapper)\n",
      "        1    0.066    0.066   11.266   11.266 /Users/vitorferreira/Desktop/Imperial_College/ResearchProject/Tutorials/Metabolic_Pathway/cooccurrence-master/pipeline/code/profiling/emp_data_wrang_profiling.py:22(get_data)\n",
      "      6/5    0.000    0.000    9.834    1.967 /Users/vitorferreira/miniconda3/envs/project/lib/python3.10/site-packages/pandas/util/_decorators.py:170(wrapper)\n",
      "\n",
      "\n"
     ]
    },
    {
     "data": {
      "text/plain": [
       "<pstats.Stats at 0x7f630e244ac0>"
      ]
     },
     "execution_count": 3,
     "metadata": {},
     "output_type": "execute_result"
    }
   ],
   "source": [
    "# Complete analysis\n",
    "p = pstats.Stats('./prof_results/profiling_comms_2')\n",
    "p.sort_stats('cumulative').print_stats(10)"
   ]
  },
  {
   "cell_type": "code",
   "execution_count": 4,
   "id": "6bc258e8",
   "metadata": {
    "scrolled": false
   },
   "outputs": [
    {
     "name": "stdout",
     "output_type": "stream",
     "text": [
      "Tue Mar 21 11:58:04 2023    ./prof_results/profiling_comms_NO_scs2\n",
      "\n",
      "         378238 function calls (372021 primitive calls) in 298.304 seconds\n",
      "\n",
      "   Ordered by: cumulative time\n",
      "   List reduced from 3719 to 10 due to restriction <10>\n",
      "\n",
      "   ncalls  tottime  percall  cumtime  percall filename:lineno(function)\n",
      "    452/1    0.009    0.000  298.305  298.305 {built-in method builtins.exec}\n",
      "        1    1.298    1.298  298.305  298.305 get_interactions_profiling_NO_scs.py:1(<module>)\n",
      "        1    0.168    0.168  293.400  293.400 get_interactions_profiling_NO_scs.py:21(processing_interactions)\n",
      "        2    0.000    0.000  259.694  129.847 /Users/vitorferreira/miniconda3/envs/project/lib/python3.10/subprocess.py:1204(wait)\n",
      "        2    0.000    0.000  259.694  129.847 /Users/vitorferreira/miniconda3/envs/project/lib/python3.10/subprocess.py:1911(_wait)\n",
      "        2    0.000    0.000  259.694  129.847 /Users/vitorferreira/miniconda3/envs/project/lib/python3.10/subprocess.py:1898(_try_wait)\n",
      "        2  259.693  129.847  259.693  129.847 {built-in method posix.waitpid}\n",
      "    19/11    0.000    0.000   15.421    1.402 /Users/vitorferreira/miniconda3/envs/project/lib/python3.10/site-packages/pandas/util/_decorators.py:323(wrapper)\n",
      "        1    0.080    0.080   14.875   14.875 /Users/vitorferreira/Desktop/Imperial_College/ResearchProject/Tutorials/Metabolic_Pathway/cooccurrence-master/pipeline/code/profiling/emp_data_wrang_profiling.py:22(get_data)\n",
      "      6/5    0.000    0.000   13.475    2.695 /Users/vitorferreira/miniconda3/envs/project/lib/python3.10/site-packages/pandas/util/_decorators.py:170(wrapper)\n",
      "\n",
      "\n"
     ]
    },
    {
     "data": {
      "text/plain": [
       "<pstats.Stats at 0x7f630e2da2f0>"
      ]
     },
     "execution_count": 4,
     "metadata": {},
     "output_type": "execute_result"
    }
   ],
   "source": [
    "# Removing Species Coupling Score\n",
    "p = pstats.Stats('./prof_results/profiling_comms_NO_scs2')\n",
    "p.sort_stats('cumulative').print_stats(10)"
   ]
  },
  {
   "cell_type": "markdown",
   "id": "6ff21661",
   "metadata": {},
   "source": [
    "### 4 Species"
   ]
  },
  {
   "cell_type": "code",
   "execution_count": 5,
   "id": "1e5e3d3d",
   "metadata": {},
   "outputs": [
    {
     "name": "stdout",
     "output_type": "stream",
     "text": [
      "Tue Mar 21 11:44:40 2023    ./prof_results/profiling_comms_4\n",
      "\n",
      "         383653 function calls (377424 primitive calls) in 746.417 seconds\n",
      "\n",
      "   Ordered by: cumulative time\n",
      "   List reduced from 3719 to 10 due to restriction <10>\n",
      "\n",
      "   ncalls  tottime  percall  cumtime  percall filename:lineno(function)\n",
      "    452/1    0.017    0.000  746.418  746.418 {built-in method builtins.exec}\n",
      "        1    1.731    1.731  746.418  746.418 get_interactions_profiling.py:1(<module>)\n",
      "        1    0.288    0.288  740.904  740.904 get_interactions_profiling.py:21(processing_interactions)\n",
      "        2    0.000    0.000  707.589  353.795 /Users/vitorferreira/miniconda3/envs/project/lib/python3.10/subprocess.py:1204(wait)\n",
      "        2    0.001    0.000  707.589  353.795 /Users/vitorferreira/miniconda3/envs/project/lib/python3.10/subprocess.py:1911(_wait)\n",
      "        2    0.000    0.000  707.589  353.794 /Users/vitorferreira/miniconda3/envs/project/lib/python3.10/subprocess.py:1898(_try_wait)\n",
      "        2  707.588  353.794  707.588  353.794 {built-in method posix.waitpid}\n",
      "    19/11    0.000    0.000   17.120    1.556 /Users/vitorferreira/miniconda3/envs/project/lib/python3.10/site-packages/pandas/util/_decorators.py:323(wrapper)\n",
      "        1    0.103    0.103   15.878   15.878 /Users/vitorferreira/Desktop/Imperial_College/ResearchProject/Tutorials/Metabolic_Pathway/cooccurrence-master/pipeline/code/profiling/emp_data_wrang_profiling.py:22(get_data)\n",
      "      6/5    0.000    0.000   14.539    2.908 /Users/vitorferreira/miniconda3/envs/project/lib/python3.10/site-packages/pandas/util/_decorators.py:170(wrapper)\n",
      "\n",
      "\n"
     ]
    },
    {
     "data": {
      "text/plain": [
       "<pstats.Stats at 0x7f62fc460ca0>"
      ]
     },
     "execution_count": 5,
     "metadata": {},
     "output_type": "execute_result"
    }
   ],
   "source": [
    "# Complete analysis\n",
    "p = pstats.Stats('./prof_results/profiling_comms_4')\n",
    "p.sort_stats('cumulative').print_stats(10)"
   ]
  },
  {
   "cell_type": "code",
   "execution_count": 6,
   "id": "037c3ad4",
   "metadata": {},
   "outputs": [
    {
     "name": "stdout",
     "output_type": "stream",
     "text": [
      "Tue Mar 21 12:07:53 2023    ./prof_results/profiling_comms_NO_scs4\n",
      "\n",
      "         383653 function calls (377424 primitive calls) in 588.149 seconds\n",
      "\n",
      "   Ordered by: cumulative time\n",
      "   List reduced from 3719 to 10 due to restriction <10>\n",
      "\n",
      "   ncalls  tottime  percall  cumtime  percall filename:lineno(function)\n",
      "    452/1    0.015    0.000  588.150  588.150 {built-in method builtins.exec}\n",
      "        1    0.843    0.843  588.150  588.150 get_interactions_profiling_NO_scs.py:1(<module>)\n",
      "        1    0.137    0.137  583.873  583.873 get_interactions_profiling_NO_scs.py:21(processing_interactions)\n",
      "        2    0.000    0.000  562.313  281.157 /Users/vitorferreira/miniconda3/envs/project/lib/python3.10/subprocess.py:1204(wait)\n",
      "        2    0.001    0.000  562.313  281.156 /Users/vitorferreira/miniconda3/envs/project/lib/python3.10/subprocess.py:1911(_wait)\n",
      "        2    0.000    0.000  562.312  281.156 /Users/vitorferreira/miniconda3/envs/project/lib/python3.10/subprocess.py:1898(_try_wait)\n",
      "        2  562.312  281.156  562.312  281.156 {built-in method posix.waitpid}\n",
      "    19/11    0.000    0.000   10.049    0.914 /Users/vitorferreira/miniconda3/envs/project/lib/python3.10/site-packages/pandas/util/_decorators.py:323(wrapper)\n",
      "        1    0.050    0.050    9.352    9.352 /Users/vitorferreira/Desktop/Imperial_College/ResearchProject/Tutorials/Metabolic_Pathway/cooccurrence-master/pipeline/code/profiling/emp_data_wrang_profiling.py:22(get_data)\n",
      "      6/5    0.000    0.000    8.484    1.697 /Users/vitorferreira/miniconda3/envs/project/lib/python3.10/site-packages/pandas/util/_decorators.py:170(wrapper)\n",
      "\n",
      "\n"
     ]
    },
    {
     "data": {
      "text/plain": [
       "<pstats.Stats at 0x7f630e2dbcd0>"
      ]
     },
     "execution_count": 6,
     "metadata": {},
     "output_type": "execute_result"
    }
   ],
   "source": [
    "# Removing Species Coupling Score\n",
    "p = pstats.Stats('./prof_results/profiling_comms_NO_scs4')\n",
    "p.sort_stats('cumulative').print_stats(10)"
   ]
  },
  {
   "cell_type": "markdown",
   "id": "4c83ba19",
   "metadata": {},
   "source": [
    "### 8 Species"
   ]
  },
  {
   "cell_type": "code",
   "execution_count": 7,
   "id": "c9f7b233",
   "metadata": {},
   "outputs": [
    {
     "name": "stdout",
     "output_type": "stream",
     "text": [
      "Tue Mar 21 12:01:54 2023    ./prof_results/profiling_comms_8\n",
      "\n",
      "         388084 function calls (381834 primitive calls) in 1032.577 seconds\n",
      "\n",
      "   Ordered by: cumulative time\n",
      "   List reduced from 3719 to 10 due to restriction <10>\n",
      "\n",
      "   ncalls  tottime  percall  cumtime  percall filename:lineno(function)\n",
      "    452/1    0.010    0.000 1032.577 1032.577 {built-in method builtins.exec}\n",
      "        1    2.145    2.145 1032.577 1032.577 get_interactions_profiling.py:1(<module>)\n",
      "        1    0.150    0.150 1026.928 1026.928 get_interactions_profiling.py:21(processing_interactions)\n",
      "        2    0.000    0.000  997.974  498.987 /Users/vitorferreira/miniconda3/envs/project/lib/python3.10/subprocess.py:1204(wait)\n",
      "        2    0.001    0.000  997.974  498.987 /Users/vitorferreira/miniconda3/envs/project/lib/python3.10/subprocess.py:1911(_wait)\n",
      "        2    0.000    0.000  997.973  498.986 /Users/vitorferreira/miniconda3/envs/project/lib/python3.10/subprocess.py:1898(_try_wait)\n",
      "        2  997.972  498.986  997.972  498.986 {built-in method posix.waitpid}\n",
      "    19/11    0.000    0.000   12.187    1.108 /Users/vitorferreira/miniconda3/envs/project/lib/python3.10/site-packages/pandas/util/_decorators.py:323(wrapper)\n",
      "        1    0.078    0.078   11.509   11.509 /Users/vitorferreira/Desktop/Imperial_College/ResearchProject/Tutorials/Metabolic_Pathway/cooccurrence-master/pipeline/code/profiling/emp_data_wrang_profiling.py:22(get_data)\n",
      "      6/5    0.001    0.000   10.539    2.108 /Users/vitorferreira/miniconda3/envs/project/lib/python3.10/site-packages/pandas/util/_decorators.py:170(wrapper)\n",
      "\n",
      "\n"
     ]
    },
    {
     "data": {
      "text/plain": [
       "<pstats.Stats at 0x7f62fc461360>"
      ]
     },
     "execution_count": 7,
     "metadata": {},
     "output_type": "execute_result"
    }
   ],
   "source": [
    "# Complete analysis\n",
    "p = pstats.Stats('./prof_results/profiling_comms_8')\n",
    "p.sort_stats('cumulative').print_stats(10)"
   ]
  },
  {
   "cell_type": "code",
   "execution_count": 8,
   "id": "c8bcb550",
   "metadata": {
    "scrolled": false
   },
   "outputs": [
    {
     "name": "stdout",
     "output_type": "stream",
     "text": [
      "Tue Mar 21 12:20:31 2023    ./prof_results/profiling_comms_NO_scs8\n",
      "\n",
      "         388084 function calls (381834 primitive calls) in 757.732 seconds\n",
      "\n",
      "   Ordered by: cumulative time\n",
      "   List reduced from 3719 to 10 due to restriction <10>\n",
      "\n",
      "   ncalls  tottime  percall  cumtime  percall filename:lineno(function)\n",
      "    452/1    0.006    0.000  757.732  757.732 {built-in method builtins.exec}\n",
      "        1    1.038    1.038  757.732  757.732 get_interactions_profiling_NO_scs.py:1(<module>)\n",
      "        1    0.078    0.078  754.632  754.632 get_interactions_profiling_NO_scs.py:21(processing_interactions)\n",
      "        2    0.000    0.000  735.924  367.962 /Users/vitorferreira/miniconda3/envs/project/lib/python3.10/subprocess.py:1204(wait)\n",
      "        2    0.001    0.000  735.923  367.962 /Users/vitorferreira/miniconda3/envs/project/lib/python3.10/subprocess.py:1911(_wait)\n",
      "        2    0.000    0.000  735.922  367.961 /Users/vitorferreira/miniconda3/envs/project/lib/python3.10/subprocess.py:1898(_try_wait)\n",
      "        2  735.922  367.961  735.922  367.961 {built-in method posix.waitpid}\n",
      "    19/11    0.000    0.000    7.574    0.689 /Users/vitorferreira/miniconda3/envs/project/lib/python3.10/site-packages/pandas/util/_decorators.py:323(wrapper)\n",
      "        1    0.046    0.046    6.902    6.902 /Users/vitorferreira/Desktop/Imperial_College/ResearchProject/Tutorials/Metabolic_Pathway/cooccurrence-master/pipeline/code/profiling/emp_data_wrang_profiling.py:22(get_data)\n",
      "      6/5    0.001    0.000    6.624    1.325 /Users/vitorferreira/miniconda3/envs/project/lib/python3.10/site-packages/pandas/util/_decorators.py:170(wrapper)\n",
      "\n",
      "\n"
     ]
    },
    {
     "data": {
      "text/plain": [
       "<pstats.Stats at 0x7f630e2db5b0>"
      ]
     },
     "execution_count": 8,
     "metadata": {},
     "output_type": "execute_result"
    }
   ],
   "source": [
    "# Removing Species Coupling Score\n",
    "p = pstats.Stats('./prof_results/profiling_comms_NO_scs8')\n",
    "p.sort_stats('cumulative').print_stats(10)"
   ]
  },
  {
   "cell_type": "markdown",
   "id": "e042911e",
   "metadata": {},
   "source": [
    "### 16 Species"
   ]
  },
  {
   "cell_type": "code",
   "execution_count": 9,
   "id": "00f2faff",
   "metadata": {},
   "outputs": [
    {
     "name": "stdout",
     "output_type": "stream",
     "text": [
      "Sun Mar 19 14:02:52 2023    ./prof_results/profiling_comms_16\n",
      "\n",
      "         409636 function calls (403335 primitive calls) in 3114.366 seconds\n",
      "\n",
      "   Ordered by: cumulative time\n",
      "   List reduced from 3720 to 10 due to restriction <10>\n",
      "\n",
      "   ncalls  tottime  percall  cumtime  percall filename:lineno(function)\n",
      "    452/1    0.002    0.000 3114.366 3114.366 {built-in method builtins.exec}\n",
      "        1    0.464    0.464 3114.366 3114.366 get_interactions_profiling.py:1(<module>)\n",
      "        1    0.018    0.018 3112.900 3112.900 get_interactions_profiling.py:21(processing_interactions)\n",
      "        2    0.000    0.000 3097.843 1548.922 /Users/vitorferreira/miniconda3/envs/project/lib/python3.10/subprocess.py:1204(wait)\n",
      "        2    0.000    0.000 3097.843 1548.921 /Users/vitorferreira/miniconda3/envs/project/lib/python3.10/subprocess.py:1911(_wait)\n",
      "        2    0.000    0.000 3097.842 1548.921 /Users/vitorferreira/miniconda3/envs/project/lib/python3.10/subprocess.py:1898(_try_wait)\n",
      "        2 3097.842 1548.921 3097.842 1548.921 {built-in method posix.waitpid}\n",
      "        1    0.000    0.000   11.530   11.530 /Users/vitorferreira/Desktop/Imperial_College/ResearchProject/Tutorials/Metabolic_Pathway/cooccurrence-master/pipeline/code/profiling/emp_data_wrang_profiling.py:188(get_genome)\n",
      "       16    0.000    0.000   11.524    0.720 /Users/vitorferreira/Desktop/Imperial_College/ResearchProject/Tutorials/Metabolic_Pathway/cooccurrence-master/pipeline/code/profiling/emp_data_wrang_profiling.py:130(download_ncbi_genome_temp)\n",
      "       16    0.004    0.000   11.504    0.719 /Users/vitorferreira/miniconda3/envs/project/lib/python3.10/urllib/request.py:223(urlretrieve)\n",
      "\n",
      "\n"
     ]
    },
    {
     "data": {
      "text/plain": [
       "<pstats.Stats at 0x7f62fc4605b0>"
      ]
     },
     "execution_count": 9,
     "metadata": {},
     "output_type": "execute_result"
    }
   ],
   "source": [
    "# Complete analysis\n",
    "p = pstats.Stats('./prof_results/profiling_comms_16')\n",
    "p.sort_stats('cumulative').print_stats(10)"
   ]
  },
  {
   "cell_type": "code",
   "execution_count": 10,
   "id": "1dce4613",
   "metadata": {},
   "outputs": [
    {
     "name": "stdout",
     "output_type": "stream",
     "text": [
      "Tue Mar 21 14:31:33 2023    ./prof_results/profiling_comms_NO_scs16\n",
      "\n",
      "         409636 function calls (403335 primitive calls) in 1411.658 seconds\n",
      "\n",
      "   Ordered by: cumulative time\n",
      "   List reduced from 3720 to 10 due to restriction <10>\n",
      "\n",
      "   ncalls  tottime  percall  cumtime  percall filename:lineno(function)\n",
      "    452/1    0.002    0.000 1411.658 1411.658 {built-in method builtins.exec}\n",
      "        1    0.450    0.450 1411.658 1411.658 get_interactions_profiling_NO_scs.py:1(<module>)\n",
      "        1    0.022    0.022 1408.799 1408.799 get_interactions_profiling_NO_scs.py:21(processing_interactions)\n",
      "        2    0.000    0.000 1391.625  695.812 /Users/vitorferreira/miniconda3/envs/project/lib/python3.10/subprocess.py:1204(wait)\n",
      "        2    0.000    0.000 1391.624  695.812 /Users/vitorferreira/miniconda3/envs/project/lib/python3.10/subprocess.py:1911(_wait)\n",
      "        2    0.000    0.000 1391.624  695.812 /Users/vitorferreira/miniconda3/envs/project/lib/python3.10/subprocess.py:1898(_try_wait)\n",
      "        2 1391.624  695.812 1391.624  695.812 {built-in method posix.waitpid}\n",
      "        1    0.000    0.000   13.379   13.379 /Users/vitorferreira/Desktop/Imperial_College/ResearchProject/Tutorials/Metabolic_Pathway/cooccurrence-master/pipeline/code/profiling/emp_data_wrang_profiling.py:188(get_genome)\n",
      "       16    0.000    0.000   13.373    0.836 /Users/vitorferreira/Desktop/Imperial_College/ResearchProject/Tutorials/Metabolic_Pathway/cooccurrence-master/pipeline/code/profiling/emp_data_wrang_profiling.py:130(download_ncbi_genome_temp)\n",
      "       16    0.004    0.000   13.352    0.834 /Users/vitorferreira/miniconda3/envs/project/lib/python3.10/urllib/request.py:223(urlretrieve)\n",
      "\n",
      "\n"
     ]
    },
    {
     "data": {
      "text/plain": [
       "<pstats.Stats at 0x7f630e2da740>"
      ]
     },
     "execution_count": 10,
     "metadata": {},
     "output_type": "execute_result"
    }
   ],
   "source": [
    "# Removing Species Coupling Score\n",
    "p = pstats.Stats('./prof_results/profiling_comms_NO_scs16')\n",
    "p.sort_stats('cumulative').print_stats(10)"
   ]
  },
  {
   "cell_type": "markdown",
   "id": "bc0683c8",
   "metadata": {},
   "source": [
    "### 32 Species"
   ]
  },
  {
   "cell_type": "code",
   "execution_count": 11,
   "id": "9fc26037",
   "metadata": {},
   "outputs": [
    {
     "name": "stdout",
     "output_type": "stream",
     "text": [
      "Mon Mar 20 14:50:50 2023    ./prof_results/profiling_comms_32\n",
      "\n",
      "         455457 function calls (449063 primitive calls) in 89274.477 seconds\n",
      "\n",
      "   Ordered by: cumulative time\n",
      "   List reduced from 3724 to 10 due to restriction <10>\n",
      "\n",
      "   ncalls  tottime  percall  cumtime  percall filename:lineno(function)\n",
      "    452/1    0.013    0.000 89274.477 89274.477 {built-in method builtins.exec}\n",
      "        1    0.001    0.001 89274.466 89274.466 get_interactions_profiling.py:1(<module>)\n",
      "        1    0.020    0.020 89273.188 89273.188 get_interactions_profiling.py:21(processing_interactions)\n",
      "        2    0.002    0.001 89245.071 44622.535 /Users/vitorferreira/miniconda3/envs/project/lib/python3.10/subprocess.py:1204(wait)\n",
      "        3    0.012    0.004 89245.069 29748.356 /Users/vitorferreira/miniconda3/envs/project/lib/python3.10/subprocess.py:1911(_wait)\n",
      "       13    0.003    0.000 89244.812 6864.986 /Users/vitorferreira/miniconda3/envs/project/lib/python3.10/subprocess.py:1898(_try_wait)\n",
      "       13 89244.809 6864.985 89244.809 6864.985 {built-in method posix.waitpid}\n",
      "        1    0.001    0.001   24.622   24.622 /Users/vitorferreira/Desktop/Imperial_College/ResearchProject/Tutorials/Metabolic_Pathway/cooccurrence-master/pipeline/code/profiling/emp_data_wrang_profiling.py:188(get_genome)\n",
      "       32    0.001    0.000   24.609    0.769 /Users/vitorferreira/Desktop/Imperial_College/ResearchProject/Tutorials/Metabolic_Pathway/cooccurrence-master/pipeline/code/profiling/emp_data_wrang_profiling.py:130(download_ncbi_genome_temp)\n",
      "       31    0.010    0.000   24.580    0.793 /Users/vitorferreira/miniconda3/envs/project/lib/python3.10/urllib/request.py:223(urlretrieve)\n",
      "\n",
      "\n"
     ]
    },
    {
     "data": {
      "text/plain": [
       "<pstats.Stats at 0x7f62fc460040>"
      ]
     },
     "execution_count": 11,
     "metadata": {},
     "output_type": "execute_result"
    }
   ],
   "source": [
    "# Complete analysis\n",
    "p = pstats.Stats('./prof_results/profiling_comms_32')\n",
    "p.sort_stats('cumulative').print_stats(10)"
   ]
  },
  {
   "cell_type": "code",
   "execution_count": 12,
   "id": "36a97e1a",
   "metadata": {},
   "outputs": [
    {
     "name": "stdout",
     "output_type": "stream",
     "text": [
      "Tue Mar 21 03:32:53 2023    ./prof_results/profiling_comms_NO_scs32\n",
      "\n",
      "         389078 function calls (382759 primitive calls) in 7765.682 seconds\n",
      "\n",
      "   Ordered by: cumulative time\n",
      "   List reduced from 3521 to 10 due to restriction <10>\n",
      "\n",
      "   ncalls  tottime  percall  cumtime  percall filename:lineno(function)\n",
      "    450/1    0.009    0.000 7765.683 7765.683 {built-in method builtins.exec}\n",
      "        1    1.445    1.445 7765.682 7765.682 get_interactions_profiling_NO_scs.py:1(<module>)\n",
      "        1    0.138    0.138 7761.106 7761.106 get_interactions_profiling_NO_scs.py:21(processing_interactions)\n",
      "        2    0.000    0.000 7741.280 3870.640 /Users/vitorferreira/miniconda3/envs/project/lib/python3.10/subprocess.py:1204(wait)\n",
      "        2    0.001    0.000 7741.279 3870.640 /Users/vitorferreira/miniconda3/envs/project/lib/python3.10/subprocess.py:1911(_wait)\n",
      "        2    0.001    0.000 7741.278 3870.639 /Users/vitorferreira/miniconda3/envs/project/lib/python3.10/subprocess.py:1898(_try_wait)\n",
      "        2 7741.278 3870.639 7741.278 3870.639 {built-in method posix.waitpid}\n",
      "    19/11    0.000    0.000   11.386    1.035 /Users/vitorferreira/miniconda3/envs/project/lib/python3.10/site-packages/pandas/util/_decorators.py:323(wrapper)\n",
      "        1    0.063    0.063   10.505   10.505 /Users/vitorferreira/Desktop/Imperial_College/ResearchProject/Tutorials/Metabolic_Pathway/cooccurrence-master/pipeline/code/profiling/emp_data_wrang_profiling.py:22(get_data)\n",
      "      6/5    0.000    0.000    9.738    1.948 /Users/vitorferreira/miniconda3/envs/project/lib/python3.10/site-packages/pandas/util/_decorators.py:170(wrapper)\n",
      "\n",
      "\n"
     ]
    },
    {
     "data": {
      "text/plain": [
       "<pstats.Stats at 0x7f630e2daaa0>"
      ]
     },
     "execution_count": 12,
     "metadata": {},
     "output_type": "execute_result"
    }
   ],
   "source": [
    "# Removing Species Coupling Score\n",
    "p = pstats.Stats('./prof_results/profiling_comms_NO_scs32')\n",
    "p.sort_stats('cumulative').print_stats(10)"
   ]
  },
  {
   "cell_type": "code",
   "execution_count": null,
   "id": "a1dadb95",
   "metadata": {},
   "outputs": [],
   "source": []
  },
  {
   "cell_type": "code",
   "execution_count": null,
   "id": "51d899b2",
   "metadata": {},
   "outputs": [],
   "source": []
  }
 ],
 "metadata": {
  "kernelspec": {
   "display_name": "Python 3 (ipykernel)",
   "language": "python",
   "name": "python3"
  },
  "language_info": {
   "codemirror_mode": {
    "name": "ipython",
    "version": 3
   },
   "file_extension": ".py",
   "mimetype": "text/x-python",
   "name": "python",
   "nbconvert_exporter": "python",
   "pygments_lexer": "ipython3",
   "version": "3.10.9"
  }
 },
 "nbformat": 4,
 "nbformat_minor": 5
}
