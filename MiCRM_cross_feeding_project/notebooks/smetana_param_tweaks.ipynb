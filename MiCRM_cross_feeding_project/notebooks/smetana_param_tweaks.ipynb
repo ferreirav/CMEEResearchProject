{
 "cells": [
  {
   "cell_type": "markdown",
   "id": "f6e09d46",
   "metadata": {},
   "source": [
    "# SMETANA - Species Metabolic Interaction Analysis"
   ]
  },
  {
   "cell_type": "markdown",
   "id": "dba70799",
   "metadata": {},
   "source": [
    "In this project, I am using data from the Earth Microbiome Project that has around 12,000 samples across diferent enviromental material. This samples have community sizes that spans from 2 species up to 700 species, where most of the sample size distribution are up to 200 species.\n",
    "\n",
    "Recent profiling tests on the pipeline developed so far ((get_interactions.py)[]) show that scaling up the calculation of metabolic interactions from 2 species to 32 could increase the computational time up to 300x more, so taking this initial estimation into account, the calculation for community size of 100 or even 200 species could be massive.\n",
    "\n",
    "For that I will adapt some of the parameters used in the package and try to optimise the calculation of interactions.\n",
    "\n",
    "Here, I will describe the reasoning and settings used in the modification of some parameters implemented in the package. The repo for the package can be found [here](https://github.com/cdanielmachado/smetana)."
   ]
  },
  {
   "cell_type": "markdown",
   "id": "e1e530d4",
   "metadata": {},
   "source": [
    "The parameters that I will adapt are:\n",
    "(defined by priority order within each function!)\n",
    "\n",
    "1. In the `sc_score` function:\n",
    "\n",
    "- `n_solutions` = this parameter comes with a default value of 100 solutions. Changing this will allow to speed up some of the optimization on the linear problems. Let's see at what cost!!!!\n",
    "- `use_pools` = this is set to *True* meaning that it uses a pool of solutions from the solver together with the parameter `pool_gap`\n",
    "- `pool_gap` = that is likely to define the proportion of solutions that satisfy the objective function (here the default is 0.5)\n",
    "\n",
    "2. In the minimal_media:\n",
    "\n",
    "- `n_solutions`  = default value of 1, meaning that it is only looking for one solution\n",
    "- `min_growth` = here the parameter is set to 1, which means that the minimal media will only be found if the organism would grow 1 mmol/gDW/h\n",
    "- `use_pools` combined with `pool_gap` parameters - to increase the possible solutions for minimal media"
   ]
  },
  {
   "cell_type": "code",
   "execution_count": null,
   "id": "40e96528",
   "metadata": {},
   "outputs": [],
   "source": []
  }
 ],
 "metadata": {
  "kernelspec": {
   "display_name": "Python 3 (ipykernel)",
   "language": "python",
   "name": "python3"
  },
  "language_info": {
   "codemirror_mode": {
    "name": "ipython",
    "version": 3
   },
   "file_extension": ".py",
   "mimetype": "text/x-python",
   "name": "python",
   "nbconvert_exporter": "python",
   "pygments_lexer": "ipython3",
   "version": "3.10.6"
  }
 },
 "nbformat": 4,
 "nbformat_minor": 5
}
